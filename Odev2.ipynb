{
 "cells": [
  {
   "cell_type": "code",
   "execution_count": 15,
   "id": "11b3b050-b9d7-4470-9051-2dafc124d6ea",
   "metadata": {
    "scrolled": true
   },
   "outputs": [],
   "source": [
    "def f2wb(freq):\n",
    "    freq_Mhz = freq / 1_000_000\n",
    "    if 1 <= freq_Mhz < 30:\n",
    "        sonuc_band = \"High Frequency (HF)\"\n",
    "    elif 30 <= freq_Mhz < 300:\n",
    "        sonuc_band = \"Very High Frequency (VHF)\"\n",
    "    elif 300 <= freq_Mhz < 3000:\n",
    "        sonuc_band = \"Ultra High Frequency (UHF)\"\n",
    "    elif 3000 <= freq_Mhz < 30000:\n",
    "        sonuc_band = \"Super High Frequency (SHF)\"\n",
    "    elif 30000 <= freq_Mhz < 300000:\n",
    "        sonuc_band = \"Extremely High Frequency (EHF)\"\n",
    "    elif 300000 <= freq_Mhz < 3000000:\n",
    "        sonuc_band = \"Terahertz (THz) Radiation\"\n",
    "    else:\n",
    "        sonuc_band = \"Band Tanımsız\"\n",
    "\n",
    "    wave = 300_000_000 / freq\n",
    "    return [wave, sonuc_band]\n",
    "\n",
    "\n"
   ]
  },
  {
   "cell_type": "code",
   "execution_count": 16,
   "id": "1b6a6048-5050-4805-8c28-9b7fa129987c",
   "metadata": {},
   "outputs": [
    {
     "name": "stdout",
     "output_type": "stream",
     "text": [
      "[60.0, 'High Frequency (HF)']\n"
     ]
    }
   ],
   "source": [
    "\n",
    "print(f2wb(5_000_000))\n"
   ]
  },
  {
   "cell_type": "code",
   "execution_count": 17,
   "id": "980c4ab5-2bc8-4348-a574-7ac15b1ede8e",
   "metadata": {},
   "outputs": [
    {
     "name": "stdout",
     "output_type": "stream",
     "text": [
      "[10.0, 'Very High Frequency (VHF)']\n"
     ]
    }
   ],
   "source": [
    "print(f2wb(30_000_000))"
   ]
  },
  {
   "cell_type": "code",
   "execution_count": 22,
   "id": "04e85f61-0515-4615-bd98-a10ffaa9bb0a",
   "metadata": {},
   "outputs": [
    {
     "name": "stdout",
     "output_type": "stream",
     "text": [
      "[0.6, 'Ultra High Frequency (UHF)']\n"
     ]
    }
   ],
   "source": [
    "print(f2wb(500_000_000))"
   ]
  },
  {
   "cell_type": "code",
   "execution_count": 21,
   "id": "a924e479-3742-49dd-a66b-e7b6fdfbbae4",
   "metadata": {},
   "outputs": [
    {
     "name": "stdout",
     "output_type": "stream",
     "text": [
      "[0.1, 'Super High Frequency (SHF)']\n"
     ]
    }
   ],
   "source": [
    "print(f2wb(3_000_000_000))"
   ]
  },
  {
   "cell_type": "code",
   "execution_count": 23,
   "id": "b69d63ba-a0d7-4c09-bddf-e437d2256058",
   "metadata": {},
   "outputs": [
    {
     "name": "stdout",
     "output_type": "stream",
     "text": [
      "[0.006, 'Extremely High Frequency (EHF)']\n"
     ]
    }
   ],
   "source": [
    "print(f2wb(50_000_000_000))"
   ]
  },
  {
   "cell_type": "code",
   "execution_count": 24,
   "id": "aa032a26-f722-4381-94a3-29851eb6d337",
   "metadata": {},
   "outputs": [
    {
     "name": "stdout",
     "output_type": "stream",
     "text": [
      "[0.0006, 'Terahertz (THz) Radiation']\n"
     ]
    }
   ],
   "source": [
    "print(f2wb(500_000_000_000))"
   ]
  }
 ],
 "metadata": {
  "kernelspec": {
   "display_name": "Python 3 (ipykernel)",
   "language": "python",
   "name": "python3"
  },
  "language_info": {
   "codemirror_mode": {
    "name": "ipython",
    "version": 3
   },
   "file_extension": ".py",
   "mimetype": "text/x-python",
   "name": "python",
   "nbconvert_exporter": "python",
   "pygments_lexer": "ipython3",
   "version": "3.13.5"
  }
 },
 "nbformat": 4,
 "nbformat_minor": 5
}
